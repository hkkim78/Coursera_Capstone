{
 "cells": [
  {
   "cell_type": "markdown",
   "metadata": {},
   "source": [
    "### Applied Data Science Capston Project\n",
    "\n",
    "## The Battle of Neighborhoods (Week1)\n",
    "\n",
    "# Topic: Finding an Optimal Location for a New Sushi Restaurant in San Diego, CA"
   ]
  },
  {
   "cell_type": "markdown",
   "metadata": {},
   "source": [
    "## 1. Introduction"
   ]
  },
  {
   "cell_type": "markdown",
   "metadata": {},
   "source": [
    "In this project, I will try to help my friend who is looking for an optimal location for his sushi restaurant in beautiful San Diego, CA.\n",
    "\n",
    "Since there are already many sushi restaurants in San Diego, he is lookin for a location where there are many business stores but few sushi restaurants in vicinity. If other conditions are the same, he prefers a location which is near from the ocean.\n",
    "\n",
    "I will use my data science skills to detect the optimal location for his new sushi restaurant."
   ]
  },
  {
   "cell_type": "markdown",
   "metadata": {},
   "source": [
    "## 2. Data"
   ]
  },
  {
   "cell_type": "markdown",
   "metadata": {},
   "source": [
    "I will download \"<b>community_bounds.csv</b>\" from https://data.world/san-diego/community-bounds, and use it as an input data.\n",
    "\n",
    "The csv file contains the information of latitude & longitude coordinates of neiborhoods in San Diego.\n",
    "\n",
    "I will use **Foursquare API** to extract number of restaurants and their type and location in every neighborhood in San Diego."
   ]
  },
  {
   "cell_type": "code",
   "execution_count": null,
   "metadata": {},
   "outputs": [],
   "source": []
  }
 ],
 "metadata": {
  "kernelspec": {
   "display_name": "Python 3",
   "language": "python",
   "name": "python3"
  },
  "language_info": {
   "codemirror_mode": {
    "name": "ipython",
    "version": 3
   },
   "file_extension": ".py",
   "mimetype": "text/x-python",
   "name": "python",
   "nbconvert_exporter": "python",
   "pygments_lexer": "ipython3",
   "version": "3.7.6"
  }
 },
 "nbformat": 4,
 "nbformat_minor": 4
}
